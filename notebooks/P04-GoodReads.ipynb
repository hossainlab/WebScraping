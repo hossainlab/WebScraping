{
 "cells": [
  {
   "cell_type": "code",
   "execution_count": 1,
   "metadata": {},
   "outputs": [],
   "source": [
    "from bs4 import BeautifulSoup \n",
    "import requests \n",
    "import pandas"
   ]
  },
  {
   "cell_type": "code",
   "execution_count": 15,
   "metadata": {},
   "outputs": [],
   "source": [
    "response = requests.get('https://www.goodreads.com/choiceawards/best-books-2019').text "
   ]
  },
  {
   "cell_type": "code",
   "execution_count": 16,
   "metadata": {},
   "outputs": [],
   "source": [
    "soup = BeautifulSoup(response, 'html.parser')"
   ]
  },
  {
   "cell_type": "code",
   "execution_count": 32,
   "metadata": {},
   "outputs": [],
   "source": [
    "book_category = []\n",
    "book_category_elem = soup.find_all(class_='category__copy')\n",
    "for item in book_category_elem: \n",
    "    book_category.append(item.text.replace(\"\\n\", \"\").replace(\"\\t\", \"\"))"
   ]
  },
  {
   "cell_type": "code",
   "execution_count": 35,
   "metadata": {},
   "outputs": [
    {
     "data": {
      "text/plain": [
       "['Fiction',\n",
       " 'Mystery & Thriller',\n",
       " 'Historical Fiction',\n",
       " 'Fantasy',\n",
       " 'Romance',\n",
       " 'Science Fiction',\n",
       " 'Horror',\n",
       " 'Humor',\n",
       " 'Nonfiction',\n",
       " 'Memoir & Autobiography',\n",
       " 'History & Biography',\n",
       " 'Science & Technology',\n",
       " 'Food & Cookbooks',\n",
       " 'Graphic Novels & Comics',\n",
       " 'Poetry',\n",
       " 'Debut Novel',\n",
       " 'Young Adult Fiction',\n",
       " 'Young Adult Fantasy',\n",
       " \"Middle Grade & Children's\",\n",
       " 'Picture Books']"
      ]
     },
     "execution_count": 35,
     "metadata": {},
     "output_type": "execute_result"
    }
   ],
   "source": [
    "book_category"
   ]
  },
  {
   "cell_type": "code",
   "execution_count": null,
   "metadata": {},
   "outputs": [],
   "source": [
    "category__winnerImageContainer"
   ]
  },
  {
   "cell_type": "code",
   "execution_count": 36,
   "metadata": {},
   "outputs": [],
   "source": [
    "book_title = []\n",
    "book_title_elem = soup.find_all(class_='category__winnerImageContainer')\n",
    "for item in book_title_elem: \n",
    "    book_title.append(item.find('img').get('alt'))"
   ]
  },
  {
   "cell_type": "code",
   "execution_count": 37,
   "metadata": {},
   "outputs": [
    {
     "data": {
      "text/plain": [
       "[\"The Testaments (The Handmaid's Tale, #2)\",\n",
       " 'The Silent Patient',\n",
       " 'Daisy Jones & The Six',\n",
       " 'Ninth House (Alex Stern, #1)',\n",
       " 'Red, White & Royal Blue',\n",
       " 'Recursion',\n",
       " 'The Institute',\n",
       " 'Dear Girls: Intimate Tales, Untold Secrets, & Advice for Living Your Best Life',\n",
       " 'Girl, Stop Apologizing: A Shame-Free Plan for Embracing and Achieving Your Goals',\n",
       " 'Over the Top: A Raw Journey to Self-Love',\n",
       " 'The Five: The Untold Lives of the Women Killed by Jack the Ripper',\n",
       " 'Will My Cat Eat My Eyeballs? Big Questions from Tiny Mortals About Death',\n",
       " 'Antoni in the Kitchen',\n",
       " 'Pumpkinheads',\n",
       " 'SHOUT',\n",
       " 'Red, White & Royal Blue',\n",
       " 'Five Feet Apart',\n",
       " 'The Wicked King (The Folk of the Air, #2)',\n",
       " \"The Tyrant's Tomb (The Trials of Apollo, #4)\",\n",
       " 'A Beautiful Day in the Neighborhood: The Poetry of Mister Rogers']"
      ]
     },
     "execution_count": 37,
     "metadata": {},
     "output_type": "execute_result"
    }
   ],
   "source": [
    "book_title"
   ]
  }
 ],
 "metadata": {
  "kernelspec": {
   "display_name": "Python 3",
   "language": "python",
   "name": "python3"
  },
  "language_info": {
   "codemirror_mode": {
    "name": "ipython",
    "version": 3
   },
   "file_extension": ".py",
   "mimetype": "text/x-python",
   "name": "python",
   "nbconvert_exporter": "python",
   "pygments_lexer": "ipython3",
   "version": "3.7.4"
  },
  "latex_envs": {
   "LaTeX_envs_menu_present": true,
   "autoclose": false,
   "autocomplete": true,
   "bibliofile": "biblio.bib",
   "cite_by": "apalike",
   "current_citInitial": 1,
   "eqLabelWithNumbers": true,
   "eqNumInitial": 1,
   "hotkeys": {
    "equation": "Ctrl-E",
    "itemize": "Ctrl-I"
   },
   "labels_anchors": false,
   "latex_user_defs": false,
   "report_style_numbering": false,
   "user_envs_cfg": false
  },
  "toc": {
   "base_numbering": 1,
   "nav_menu": {},
   "number_sections": true,
   "sideBar": true,
   "skip_h1_title": false,
   "title_cell": "Table of Contents",
   "title_sidebar": "Contents",
   "toc_cell": false,
   "toc_position": {},
   "toc_section_display": true,
   "toc_window_display": false
  }
 },
 "nbformat": 4,
 "nbformat_minor": 4
}
