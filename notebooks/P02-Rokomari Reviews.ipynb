{
 "cells": [
  {
   "cell_type": "code",
   "execution_count": 101,
   "metadata": {},
   "outputs": [],
   "source": [
    "import requests \n",
    "from bs4 import BeautifulSoup\n",
    "import os    "
   ]
  },
  {
   "cell_type": "code",
   "execution_count": 102,
   "metadata": {},
   "outputs": [],
   "source": [
    "pages = [1, 2, 3]\n",
    "for page in pages: \n",
    "    response = requests.get('https://www.rokomari.com/reviews?page={}'.format(page)).text\n",
    "\n",
    "    soup = BeautifulSoup(response, 'html.parser') \n",
    "    book_title = [] \n",
    "    book_title_elem = soup.find_all(class_='productName')\n",
    "    for item in book_title_elem: \n",
    "        book_title.append(item.text)\n",
    "    \n",
    "    \n",
    "    book_author = [] \n",
    "    book_author_elem = soup.find_all(class_='productAuthor')\n",
    "    for item in book_author_elem: \n",
    "        book_author.append(item.text)"
   ]
  },
  {
   "cell_type": "code",
   "execution_count": 96,
   "metadata": {},
   "outputs": [
    {
     "data": {
      "text/plain": [
       "['আনিসুজ্জামান',\n",
       " 'তাহারিম জিহান চৌধুরী (পলা)',\n",
       " 'সাইয়েদ সালিম শাহজাদ',\n",
       " 'ঝংকার মাহবুব',\n",
       " 'সৈয়দ ইরফানুল বারী',\n",
       " '',\n",
       " 'মুহম্মদ জাফর ইকবাল',\n",
       " 'আলমগীর হোসেন খান',\n",
       " 'অনীশ দাস অপু',\n",
       " 'সৈয়দ ইরফানুল বারী']"
      ]
     },
     "execution_count": 96,
     "metadata": {},
     "output_type": "execute_result"
    }
   ],
   "source": [
    "book_author "
   ]
  },
  {
   "cell_type": "code",
   "execution_count": 100,
   "metadata": {},
   "outputs": [
    {
     "name": "stdout",
     "output_type": "stream",
     "text": [
      "<Response [200]>\n"
     ]
    }
   ],
   "source": [
    "pages = [1, 2, 3]\n",
    "for page in pages: \n",
    "    response = requests.get('https://www.rokomari.com/reviews?page={}'.format(page))\n",
    "print(response)"
   ]
  },
  {
   "cell_type": "code",
   "execution_count": null,
   "metadata": {},
   "outputs": [],
   "source": []
  }
 ],
 "metadata": {
  "kernelspec": {
   "display_name": "Python 3",
   "language": "python",
   "name": "python3"
  },
  "language_info": {
   "codemirror_mode": {
    "name": "ipython",
    "version": 3
   },
   "file_extension": ".py",
   "mimetype": "text/x-python",
   "name": "python",
   "nbconvert_exporter": "python",
   "pygments_lexer": "ipython3",
   "version": "3.7.4"
  },
  "latex_envs": {
   "LaTeX_envs_menu_present": true,
   "autoclose": false,
   "autocomplete": true,
   "bibliofile": "biblio.bib",
   "cite_by": "apalike",
   "current_citInitial": 1,
   "eqLabelWithNumbers": true,
   "eqNumInitial": 1,
   "hotkeys": {
    "equation": "Ctrl-E",
    "itemize": "Ctrl-I"
   },
   "labels_anchors": false,
   "latex_user_defs": false,
   "report_style_numbering": false,
   "user_envs_cfg": false
  },
  "toc": {
   "base_numbering": 1,
   "nav_menu": {},
   "number_sections": true,
   "sideBar": true,
   "skip_h1_title": false,
   "title_cell": "Table of Contents",
   "title_sidebar": "Contents",
   "toc_cell": false,
   "toc_position": {},
   "toc_section_display": true,
   "toc_window_display": false
  }
 },
 "nbformat": 4,
 "nbformat_minor": 4
}
