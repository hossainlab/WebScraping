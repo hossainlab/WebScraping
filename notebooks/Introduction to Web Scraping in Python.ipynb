{
 "cells": [
  {
   "cell_type": "markdown",
   "metadata": {},
   "source": [
    "# Intro to Web Scraping with BeautifulSoup"
   ]
  },
  {
   "cell_type": "code",
   "execution_count": 2,
   "metadata": {},
   "outputs": [],
   "source": [
    "# Import BeautifulSoup \n",
    "from bs4 import BeautifulSoup"
   ]
  },
  {
   "cell_type": "code",
   "execution_count": 4,
   "metadata": {},
   "outputs": [],
   "source": [
    "# Set a html variable \n",
    "html_doc = \"\"\"\n",
    "<!DOCTYPE html>\n",
    "<html lang=\"en\">\n",
    "<head>\n",
    "    <meta charset=\"UTF-8\">\n",
    "    <meta name=\"viewport\" content=\"width=device-width, initial-scale=1.0\">\n",
    "    <title>Intro to Web Scraping with BeautifulSoup</title>\n",
    "</head>\n",
    "<body>\n",
    "    <div id=\"section-1\">\n",
    "        <h3 data-hello=\"hi\">Hello</h3> \n",
    "        <img src=\"https://sources.unplash.com/200x200/?nature, water\" alt=\"\">\n",
    "        <p>Lorem ipsum dolor sit amet consectetur adipisicing elit. Nobis quae deleniti accusamus doloribus accusantium, sapiente culpa iusto sunt neque quia?</p>\n",
    "    </div>\n",
    "    <div id=\"section-2\">\n",
    "        <ul class=\"items\">\n",
    "            <a href=\"#\"><li class=\"item\">item 1</li></a>\n",
    "            <a href=\"#\"><li class=\"item\">item 2</li></a>\n",
    "            <a href=\"#\"><li class=\"item\">item 3</li></a>\n",
    "            <a href=\"#\"><li class=\"item\">item 4</li></a>   \n",
    "        </ul>\n",
    "    </div>\n",
    "</body>\n",
    "</html>\n",
    "\"\"\""
   ]
  },
  {
   "cell_type": "code",
   "execution_count": 5,
   "metadata": {},
   "outputs": [],
   "source": [
    "# Init soup object \n",
    "soup = BeautifulSoup(html_doc, 'html.parser') "
   ]
  },
  {
   "cell_type": "code",
   "execution_count": 7,
   "metadata": {},
   "outputs": [
    {
     "data": {
      "text/plain": [
       "[<div id=\"section-1\">\n",
       " <h3 data-hello=\"hi\">Hello</h3>\n",
       " <img alt=\"\" src=\"https://sources.unplash.com/200x200/?nature, water\"/>\n",
       " <p>Lorem ipsum dolor sit amet consectetur adipisicing elit. Nobis quae deleniti accusamus doloribus accusantium, sapiente culpa iusto sunt neque quia?</p>\n",
       " </div>,\n",
       " <h3 data-hello=\"hi\">Hello</h3>,\n",
       " <img alt=\"\" src=\"https://sources.unplash.com/200x200/?nature, water\"/>,\n",
       " <p>Lorem ipsum dolor sit amet consectetur adipisicing elit. Nobis quae deleniti accusamus doloribus accusantium, sapiente culpa iusto sunt neque quia?</p>,\n",
       " <div id=\"section-2\">\n",
       " <ul class=\"items\">\n",
       " <a href=\"#\"><li class=\"item\">item 1</li></a>\n",
       " <a href=\"#\"><li class=\"item\">item 2</li></a>\n",
       " <a href=\"#\"><li class=\"item\">item 3</li></a>\n",
       " <a href=\"#\"><li class=\"item\">item 4</li></a>\n",
       " </ul>\n",
       " </div>,\n",
       " <ul class=\"items\">\n",
       " <a href=\"#\"><li class=\"item\">item 1</li></a>\n",
       " <a href=\"#\"><li class=\"item\">item 2</li></a>\n",
       " <a href=\"#\"><li class=\"item\">item 3</li></a>\n",
       " <a href=\"#\"><li class=\"item\">item 4</li></a>\n",
       " </ul>,\n",
       " <a href=\"#\"><li class=\"item\">item 1</li></a>,\n",
       " <li class=\"item\">item 1</li>,\n",
       " <a href=\"#\"><li class=\"item\">item 2</li></a>,\n",
       " <li class=\"item\">item 2</li>,\n",
       " <a href=\"#\"><li class=\"item\">item 3</li></a>,\n",
       " <li class=\"item\">item 3</li>,\n",
       " <a href=\"#\"><li class=\"item\">item 4</li></a>,\n",
       " <li class=\"item\">item 4</li>]"
      ]
     },
     "execution_count": 7,
     "metadata": {},
     "output_type": "execute_result"
    }
   ],
   "source": [
    "# Direct ==> it gives you a list object \n",
    "soup.body()"
   ]
  },
  {
   "cell_type": "code",
   "execution_count": 8,
   "metadata": {},
   "outputs": [
    {
     "name": "stdout",
     "output_type": "stream",
     "text": [
      "<body>\n",
      "<div id=\"section-1\">\n",
      "<h3 data-hello=\"hi\">Hello</h3>\n",
      "<img alt=\"\" src=\"https://sources.unplash.com/200x200/?nature, water\"/>\n",
      "<p>Lorem ipsum dolor sit amet consectetur adipisicing elit. Nobis quae deleniti accusamus doloribus accusantium, sapiente culpa iusto sunt neque quia?</p>\n",
      "</div>\n",
      "<div id=\"section-2\">\n",
      "<ul class=\"items\">\n",
      "<a href=\"#\"><li class=\"item\">item 1</li></a>\n",
      "<a href=\"#\"><li class=\"item\">item 2</li></a>\n",
      "<a href=\"#\"><li class=\"item\">item 3</li></a>\n",
      "<a href=\"#\"><li class=\"item\">item 4</li></a>\n",
      "</ul>\n",
      "</div>\n",
      "</body>\n"
     ]
    }
   ],
   "source": [
    "# Printing body \n",
    "print(soup.body)"
   ]
  },
  {
   "cell_type": "markdown",
   "metadata": {},
   "source": [
    "[<a href=\"#Intro-to-Web-Scraping-with-BeautifulSoup\">Back to Top</a>]"
   ]
  },
  {
   "cell_type": "code",
   "execution_count": 9,
   "metadata": {},
   "outputs": [
    {
     "name": "stdout",
     "output_type": "stream",
     "text": [
      "<head>\n",
      "<meta charset=\"utf-8\"/>\n",
      "<meta content=\"width=device-width, initial-scale=1.0\" name=\"viewport\"/>\n",
      "<title>Intro to Web Scraping with BeautifulSoup</title>\n",
      "</head>\n"
     ]
    }
   ],
   "source": [
    "# Get head of html document \n",
    "print(soup.head)"
   ]
  },
  {
   "cell_type": "code",
   "execution_count": 10,
   "metadata": {},
   "outputs": [
    {
     "name": "stdout",
     "output_type": "stream",
     "text": [
      "<title>Intro to Web Scraping with BeautifulSoup</title>\n"
     ]
    }
   ],
   "source": [
    "# Get title of html document \n",
    "print(soup.title)"
   ]
  },
  {
   "cell_type": "code",
   "execution_count": 15,
   "metadata": {},
   "outputs": [
    {
     "name": "stdout",
     "output_type": "stream",
     "text": [
      "<div id=\"section-1\">\n",
      "<h3 data-hello=\"hi\">Hello</h3>\n",
      "<img alt=\"\" src=\"https://sources.unplash.com/200x200/?nature, water\"/>\n",
      "<p>Lorem ipsum dolor sit amet consectetur adipisicing elit. Nobis quae deleniti accusamus doloribus accusantium, sapiente culpa iusto sunt neque quia?</p>\n",
      "</div>\n"
     ]
    }
   ],
   "source": [
    "# find() ==> it gives you first one \n",
    "e1 = soup.find('div')\n",
    "print(e1)"
   ]
  },
  {
   "cell_type": "code",
   "execution_count": 21,
   "metadata": {},
   "outputs": [
    {
     "name": "stdout",
     "output_type": "stream",
     "text": [
      "[<div id=\"section-1\">\n",
      "<h3 data-hello=\"hi\">Hello</h3>\n",
      "<img alt=\"\" src=\"https://sources.unplash.com/200x200/?nature, water\"/>\n",
      "<p>Lorem ipsum dolor sit amet consectetur adipisicing elit. Nobis quae deleniti accusamus doloribus accusantium, sapiente culpa iusto sunt neque quia?</p>\n",
      "</div>, <div id=\"section-2\">\n",
      "<ul class=\"items\">\n",
      "<a href=\"#\"><li class=\"item\">item 1</li></a>\n",
      "<a href=\"#\"><li class=\"item\">item 2</li></a>\n",
      "<a href=\"#\"><li class=\"item\">item 3</li></a>\n",
      "<a href=\"#\"><li class=\"item\">item 4</li></a>\n",
      "</ul>\n",
      "</div>]\n"
     ]
    }
   ],
   "source": [
    "# find_all() or findAll() ==> it gives a list of dives \n",
    "e2 = soup.find_all('div')\n",
    "# e2 = soup.findAll('div')\n",
    "print(e2)"
   ]
  },
  {
   "cell_type": "code",
   "execution_count": 22,
   "metadata": {},
   "outputs": [
    {
     "data": {
      "text/plain": [
       "<div id=\"section-1\">\n",
       "<h3 data-hello=\"hi\">Hello</h3>\n",
       "<img alt=\"\" src=\"https://sources.unplash.com/200x200/?nature, water\"/>\n",
       "<p>Lorem ipsum dolor sit amet consectetur adipisicing elit. Nobis quae deleniti accusamus doloribus accusantium, sapiente culpa iusto sunt neque quia?</p>\n",
       "</div>"
      ]
     },
     "execution_count": 22,
     "metadata": {},
     "output_type": "execute_result"
    }
   ],
   "source": [
    "# Inspect list element from e2 \n",
    "e2[0]"
   ]
  },
  {
   "cell_type": "code",
   "execution_count": 23,
   "metadata": {},
   "outputs": [
    {
     "data": {
      "text/plain": [
       "<div id=\"section-2\">\n",
       "<ul class=\"items\">\n",
       "<a href=\"#\"><li class=\"item\">item 1</li></a>\n",
       "<a href=\"#\"><li class=\"item\">item 2</li></a>\n",
       "<a href=\"#\"><li class=\"item\">item 3</li></a>\n",
       "<a href=\"#\"><li class=\"item\">item 4</li></a>\n",
       "</ul>\n",
       "</div>"
      ]
     },
     "execution_count": 23,
     "metadata": {},
     "output_type": "execute_result"
    }
   ],
   "source": [
    "# Inspect list element from e2 \n",
    "e2[1]"
   ]
  },
  {
   "cell_type": "code",
   "execution_count": 25,
   "metadata": {},
   "outputs": [
    {
     "name": "stdout",
     "output_type": "stream",
     "text": [
      "<div id=\"section-1\">\n",
      "<h3 data-hello=\"hi\">Hello</h3>\n",
      "<img alt=\"\" src=\"https://sources.unplash.com/200x200/?nature, water\"/>\n",
      "<p>Lorem ipsum dolor sit amet consectetur adipisicing elit. Nobis quae deleniti accusamus doloribus accusantium, sapiente culpa iusto sunt neque quia?</p>\n",
      "</div>\n"
     ]
    }
   ],
   "source": [
    "# find by id or class \n",
    "e3 = soup.find(id=\"section-1\")\n",
    "print(e3)"
   ]
  },
  {
   "cell_type": "code",
   "execution_count": 27,
   "metadata": {},
   "outputs": [
    {
     "ename": "SyntaxError",
     "evalue": "invalid syntax (<ipython-input-27-7d5c2fdd0420>, line 2)",
     "output_type": "error",
     "traceback": [
      "\u001b[0;36m  File \u001b[0;32m\"<ipython-input-27-7d5c2fdd0420>\"\u001b[0;36m, line \u001b[0;32m2\u001b[0m\n\u001b[0;31m    e4 = soup.find(class = \"items\")\u001b[0m\n\u001b[0m                       ^\u001b[0m\n\u001b[0;31mSyntaxError\u001b[0m\u001b[0;31m:\u001b[0m invalid syntax\n"
     ]
    }
   ],
   "source": [
    "# find by id or class ==> it shows an error beacause class is a reserved word that's why we have to use underscore after clss\n",
    "e4 = soup.find(class = \"items\")\n",
    "print(e4)"
   ]
  },
  {
   "cell_type": "code",
   "execution_count": 29,
   "metadata": {},
   "outputs": [
    {
     "name": "stdout",
     "output_type": "stream",
     "text": [
      "<ul class=\"items\">\n",
      "<a href=\"#\"><li class=\"item\">item 1</li></a>\n",
      "<a href=\"#\"><li class=\"item\">item 2</li></a>\n",
      "<a href=\"#\"><li class=\"item\">item 3</li></a>\n",
      "<a href=\"#\"><li class=\"item\">item 4</li></a>\n",
      "</ul>\n"
     ]
    }
   ],
   "source": [
    "e4 = soup.find(class_= \"items\")\n",
    "print(e4)"
   ]
  },
  {
   "cell_type": "code",
   "execution_count": 31,
   "metadata": {},
   "outputs": [
    {
     "name": "stdout",
     "output_type": "stream",
     "text": [
      "<h3 data-hello=\"hi\">Hello</h3>\n"
     ]
    }
   ],
   "source": [
    "# find by `data attribute`: attrs {} JSON object \n",
    "e5 = soup.find(attrs={'data-hello': 'hi'})\n",
    "print(e5)"
   ]
  },
  {
   "cell_type": "markdown",
   "metadata": {},
   "source": [
    "[<a href=\"#Intro-to-Web-Scraping-with-BeautifulSoup\">Back to Top</a>]"
   ]
  },
  {
   "cell_type": "code",
   "execution_count": 32,
   "metadata": {},
   "outputs": [
    {
     "name": "stdout",
     "output_type": "stream",
     "text": [
      "[<div id=\"section-1\">\n",
      "<h3 data-hello=\"hi\">Hello</h3>\n",
      "<img alt=\"\" src=\"https://sources.unplash.com/200x200/?nature, water\"/>\n",
      "<p>Lorem ipsum dolor sit amet consectetur adipisicing elit. Nobis quae deleniti accusamus doloribus accusantium, sapiente culpa iusto sunt neque quia?</p>\n",
      "</div>]\n"
     ]
    }
   ],
   "source": [
    "# select element by id ==> it returns a list \n",
    "e6 = soup.select('#section-1')\n",
    "print(e6)"
   ]
  },
  {
   "cell_type": "code",
   "execution_count": 33,
   "metadata": {},
   "outputs": [
    {
     "name": "stdout",
     "output_type": "stream",
     "text": [
      "<div id=\"section-1\">\n",
      "<h3 data-hello=\"hi\">Hello</h3>\n",
      "<img alt=\"\" src=\"https://sources.unplash.com/200x200/?nature, water\"/>\n",
      "<p>Lorem ipsum dolor sit amet consectetur adipisicing elit. Nobis quae deleniti accusamus doloribus accusantium, sapiente culpa iusto sunt neque quia?</p>\n",
      "</div>\n"
     ]
    }
   ],
   "source": [
    "# Inspect element ==> it not returns a list because we select index of 0 \n",
    "e6 = soup.select('#section-1')[0]\n",
    "print(e6)"
   ]
  },
  {
   "cell_type": "code",
   "execution_count": 34,
   "metadata": {},
   "outputs": [
    {
     "name": "stdout",
     "output_type": "stream",
     "text": [
      "[<ul class=\"items\">\n",
      "<a href=\"#\"><li class=\"item\">item 1</li></a>\n",
      "<a href=\"#\"><li class=\"item\">item 2</li></a>\n",
      "<a href=\"#\"><li class=\"item\">item 3</li></a>\n",
      "<a href=\"#\"><li class=\"item\">item 4</li></a>\n",
      "</ul>]\n"
     ]
    }
   ],
   "source": [
    "# select element by class ==> it returns a list \n",
    "e7 = soup.select(\".items\")\n",
    "print(e7)"
   ]
  },
  {
   "cell_type": "code",
   "execution_count": 35,
   "metadata": {},
   "outputs": [
    {
     "name": "stdout",
     "output_type": "stream",
     "text": [
      "<ul class=\"items\">\n",
      "<a href=\"#\"><li class=\"item\">item 1</li></a>\n",
      "<a href=\"#\"><li class=\"item\">item 2</li></a>\n",
      "<a href=\"#\"><li class=\"item\">item 3</li></a>\n",
      "<a href=\"#\"><li class=\"item\">item 4</li></a>\n",
      "</ul>\n"
     ]
    }
   ],
   "source": [
    "# Inspect element ==> it is not return a list \n",
    "e7 = soup.select(\".items\")[0]\n",
    "print(e7)"
   ]
  },
  {
   "cell_type": "code",
   "execution_count": 38,
   "metadata": {},
   "outputs": [
    {
     "name": "stdout",
     "output_type": "stream",
     "text": [
      "item 1\n"
     ]
    }
   ],
   "source": [
    "# get_text() method \n",
    "e8 = soup.find(class_=\"item\").get_text()\n",
    "print(e8)"
   ]
  },
  {
   "cell_type": "code",
   "execution_count": 39,
   "metadata": {},
   "outputs": [
    {
     "name": "stdout",
     "output_type": "stream",
     "text": [
      "item 1\n",
      "item 2\n",
      "item 3\n",
      "item 4\n"
     ]
    }
   ],
   "source": [
    "# Looping over items \n",
    "for item in soup.select(\".item\"): \n",
    "    print(item.get_text())"
   ]
  },
  {
   "cell_type": "markdown",
   "metadata": {},
   "source": [
    "[<a href=\"#Intro-to-Web-Scraping-with-BeautifulSoup\">Back to Top</a>]"
   ]
  },
  {
   "cell_type": "markdown",
   "metadata": {},
   "source": [
    "## Navigation"
   ]
  },
  {
   "cell_type": "code",
   "execution_count": 41,
   "metadata": {},
   "outputs": [
    {
     "name": "stdout",
     "output_type": "stream",
     "text": [
      "['\\n', <div id=\"section-1\">\n",
      "<h3 data-hello=\"hi\">Hello</h3>\n",
      "<img alt=\"\" src=\"https://sources.unplash.com/200x200/?nature, water\"/>\n",
      "<p>Lorem ipsum dolor sit amet consectetur adipisicing elit. Nobis quae deleniti accusamus doloribus accusantium, sapiente culpa iusto sunt neque quia?</p>\n",
      "</div>, '\\n', <div id=\"section-2\">\n",
      "<ul class=\"items\">\n",
      "<a href=\"#\"><li class=\"item\">item 1</li></a>\n",
      "<a href=\"#\"><li class=\"item\">item 2</li></a>\n",
      "<a href=\"#\"><li class=\"item\">item 3</li></a>\n",
      "<a href=\"#\"><li class=\"item\">item 4</li></a>\n",
      "</ul>\n",
      "</div>, '\\n']\n"
     ]
    }
   ],
   "source": [
    "# Contents \n",
    "elem = soup.body.contents\n",
    "print(elem)"
   ]
  },
  {
   "cell_type": "code",
   "execution_count": 43,
   "metadata": {},
   "outputs": [
    {
     "name": "stdout",
     "output_type": "stream",
     "text": [
      "\n",
      "\n"
     ]
    }
   ],
   "source": [
    "# It's nothing, because it looks line break \n",
    "elem = soup.body.contents[0]\n",
    "print(elem)"
   ]
  },
  {
   "cell_type": "code",
   "execution_count": 44,
   "metadata": {},
   "outputs": [
    {
     "name": "stdout",
     "output_type": "stream",
     "text": [
      "<div id=\"section-1\">\n",
      "<h3 data-hello=\"hi\">Hello</h3>\n",
      "<img alt=\"\" src=\"https://sources.unplash.com/200x200/?nature, water\"/>\n",
      "<p>Lorem ipsum dolor sit amet consectetur adipisicing elit. Nobis quae deleniti accusamus doloribus accusantium, sapiente culpa iusto sunt neque quia?</p>\n",
      "</div>\n"
     ]
    }
   ],
   "source": [
    "# Inspect elements \n",
    "elem = soup.body.contents[1]\n",
    "print(elem)"
   ]
  },
  {
   "cell_type": "code",
   "execution_count": 46,
   "metadata": {},
   "outputs": [
    {
     "name": "stdout",
     "output_type": "stream",
     "text": [
      "<h3 data-hello=\"hi\">Hello</h3>\n"
     ]
    }
   ],
   "source": [
    "# Inspect elements \n",
    "elem = soup.body.contents[1].contents[1]\n",
    "print(elem)"
   ]
  },
  {
   "cell_type": "code",
   "execution_count": 48,
   "metadata": {},
   "outputs": [
    {
     "name": "stdout",
     "output_type": "stream",
     "text": [
      "\n",
      "\n"
     ]
    }
   ],
   "source": [
    "# next siblings ==> # It's nothing, because it looks line break \n",
    "elem = soup.body.contents[1].contents[1].next_sibling\n",
    "print(elem)"
   ]
  },
  {
   "cell_type": "code",
   "execution_count": 49,
   "metadata": {},
   "outputs": [
    {
     "name": "stdout",
     "output_type": "stream",
     "text": [
      "<img alt=\"\" src=\"https://sources.unplash.com/200x200/?nature, water\"/>\n"
     ]
    }
   ],
   "source": [
    "# next siblings ==> # It's nothing, because it looks line break \n",
    "elem = soup.body.contents[1].contents[1].next_sibling.next_sibling\n",
    "print(elem)"
   ]
  },
  {
   "cell_type": "code",
   "execution_count": 50,
   "metadata": {},
   "outputs": [
    {
     "name": "stdout",
     "output_type": "stream",
     "text": [
      "<img alt=\"\" src=\"https://sources.unplash.com/200x200/?nature, water\"/>\n"
     ]
    }
   ],
   "source": [
    "# find_next_sibling() method \n",
    "elem = soup.body.contents[1].contents[1].find_next_sibling()\n",
    "print(elem)"
   ]
  },
  {
   "cell_type": "code",
   "execution_count": 51,
   "metadata": {},
   "outputs": [
    {
     "name": "stdout",
     "output_type": "stream",
     "text": [
      "<div id=\"section-1\">\n",
      "<h3 data-hello=\"hi\">Hello</h3>\n",
      "<img alt=\"\" src=\"https://sources.unplash.com/200x200/?nature, water\"/>\n",
      "<p>Lorem ipsum dolor sit amet consectetur adipisicing elit. Nobis quae deleniti accusamus doloribus accusantium, sapiente culpa iusto sunt neque quia?</p>\n",
      "</div>\n"
     ]
    }
   ],
   "source": [
    "# find_previous_sibling() method \n",
    "elem = soup.find(id=\"section-2\").find_previous_sibling()\n",
    "print(elem)"
   ]
  },
  {
   "cell_type": "code",
   "execution_count": null,
   "metadata": {},
   "outputs": [],
   "source": [
    "# find_parent() method \n",
    "elem = soup.find(class_='.item').find_parent()\n",
    "print(elem)"
   ]
  },
  {
   "cell_type": "code",
   "execution_count": 61,
   "metadata": {},
   "outputs": [
    {
     "name": "stdout",
     "output_type": "stream",
     "text": [
      "<p>Lorem ipsum dolor sit amet consectetur adipisicing elit. Nobis quae deleniti accusamus doloribus accusantium, sapiente culpa iusto sunt neque quia?</p>\n"
     ]
    }
   ],
   "source": [
    "# find next paragraph \n",
    "elem = soup.find('h3').find_next_sibling('p') \n",
    "print(elem)"
   ]
  },
  {
   "cell_type": "markdown",
   "metadata": {},
   "source": [
    "[<a href=\"#Intro-to-Web-Scraping-with-BeautifulSoup\">Back to Top</a>]"
   ]
  },
  {
   "cell_type": "markdown",
   "metadata": {},
   "source": [
    "## Resources \n",
    "- https://www.crummy.com/software/BeautifulSoup/bs4/doc/\n",
    "- https://youtu.be/4UcqECQe5Kc?t=187"
   ]
  }
 ],
 "metadata": {
  "kernelspec": {
   "display_name": "Python 3.6",
   "language": "python",
   "name": "python36"
  },
  "language_info": {
   "codemirror_mode": {
    "name": "ipython",
    "version": 3
   },
   "file_extension": ".py",
   "mimetype": "text/x-python",
   "name": "python",
   "nbconvert_exporter": "python",
   "pygments_lexer": "ipython3",
   "version": "3.6.6"
  },
  "latex_envs": {
   "LaTeX_envs_menu_present": true,
   "autoclose": false,
   "autocomplete": true,
   "bibliofile": "biblio.bib",
   "cite_by": "apalike",
   "current_citInitial": 1,
   "eqLabelWithNumbers": true,
   "eqNumInitial": 1,
   "hotkeys": {
    "equation": "Ctrl-E",
    "itemize": "Ctrl-I"
   },
   "labels_anchors": false,
   "latex_user_defs": false,
   "report_style_numbering": false,
   "user_envs_cfg": false
  },
  "toc": {
   "base_numbering": 1,
   "nav_menu": {},
   "number_sections": true,
   "sideBar": true,
   "skip_h1_title": false,
   "title_cell": "Table of Contents",
   "title_sidebar": "Contents",
   "toc_cell": false,
   "toc_position": {},
   "toc_section_display": true,
   "toc_window_display": false
  }
 },
 "nbformat": 4,
 "nbformat_minor": 2
}
