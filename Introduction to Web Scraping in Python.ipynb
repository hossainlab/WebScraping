{
  "cells": [
    {
      "metadata": {},
      "cell_type": "markdown",
      "source": "# Intro to Web Scraping with BeautifulSoup"
    },
    {
      "metadata": {
        "trusted": true
      },
      "cell_type": "code",
      "source": "# Import BeautifulSoup \nfrom bs4 import BeautifulSoup",
      "execution_count": 2,
      "outputs": []
    },
    {
      "metadata": {
        "trusted": true
      },
      "cell_type": "code",
      "source": "# Set a html variable \nhtml_doc = \"\"\"\n<!DOCTYPE html>\n<html lang=\"en\">\n<head>\n    <meta charset=\"UTF-8\">\n    <meta name=\"viewport\" content=\"width=device-width, initial-scale=1.0\">\n    <title>Intro to Web Scraping with BeautifulSoup</title>\n</head>\n<body>\n    <div id=\"section-1\">\n        <h3 data-hello=\"hi\">Hello</h3> \n        <img src=\"https://sources.unplash.com/200x200/?nature, water\" alt=\"\">\n        <p>Lorem ipsum dolor sit amet consectetur adipisicing elit. Nobis quae deleniti accusamus doloribus accusantium, sapiente culpa iusto sunt neque quia?</p>\n    </div>\n    <div id=\"section-2\">\n        <ul class=\"items\">\n            <a href=\"#\"><li class=\"item\">item 1</li></a>\n            <a href=\"#\"><li class=\"item\">item 2</li></a>\n            <a href=\"#\"><li class=\"item\">item 3</li></a>\n            <a href=\"#\"><li class=\"item\">item 4</li></a>   \n        </ul>\n    </div>\n</body>\n</html>\n\"\"\"",
      "execution_count": 4,
      "outputs": []
    },
    {
      "metadata": {
        "trusted": true
      },
      "cell_type": "code",
      "source": "# Init soup object \nsoup = BeautifulSoup(html_doc, 'html.parser') ",
      "execution_count": 5,
      "outputs": []
    },
    {
      "metadata": {
        "trusted": true
      },
      "cell_type": "code",
      "source": "# Direct ==> it gives you a list object \nsoup.body()",
      "execution_count": 7,
      "outputs": [
        {
          "output_type": "execute_result",
          "execution_count": 7,
          "data": {
            "text/plain": "[<div id=\"section-1\">\n <h3 data-hello=\"hi\">Hello</h3>\n <img alt=\"\" src=\"https://sources.unplash.com/200x200/?nature, water\"/>\n <p>Lorem ipsum dolor sit amet consectetur adipisicing elit. Nobis quae deleniti accusamus doloribus accusantium, sapiente culpa iusto sunt neque quia?</p>\n </div>,\n <h3 data-hello=\"hi\">Hello</h3>,\n <img alt=\"\" src=\"https://sources.unplash.com/200x200/?nature, water\"/>,\n <p>Lorem ipsum dolor sit amet consectetur adipisicing elit. Nobis quae deleniti accusamus doloribus accusantium, sapiente culpa iusto sunt neque quia?</p>,\n <div id=\"section-2\">\n <ul class=\"items\">\n <a href=\"#\"><li class=\"item\">item 1</li></a>\n <a href=\"#\"><li class=\"item\">item 2</li></a>\n <a href=\"#\"><li class=\"item\">item 3</li></a>\n <a href=\"#\"><li class=\"item\">item 4</li></a>\n </ul>\n </div>,\n <ul class=\"items\">\n <a href=\"#\"><li class=\"item\">item 1</li></a>\n <a href=\"#\"><li class=\"item\">item 2</li></a>\n <a href=\"#\"><li class=\"item\">item 3</li></a>\n <a href=\"#\"><li class=\"item\">item 4</li></a>\n </ul>,\n <a href=\"#\"><li class=\"item\">item 1</li></a>,\n <li class=\"item\">item 1</li>,\n <a href=\"#\"><li class=\"item\">item 2</li></a>,\n <li class=\"item\">item 2</li>,\n <a href=\"#\"><li class=\"item\">item 3</li></a>,\n <li class=\"item\">item 3</li>,\n <a href=\"#\"><li class=\"item\">item 4</li></a>,\n <li class=\"item\">item 4</li>]"
          },
          "metadata": {}
        }
      ]
    },
    {
      "metadata": {
        "trusted": true
      },
      "cell_type": "code",
      "source": "# Printing body \nprint(soup.body)",
      "execution_count": 8,
      "outputs": [
        {
          "output_type": "stream",
          "text": "<body>\n<div id=\"section-1\">\n<h3 data-hello=\"hi\">Hello</h3>\n<img alt=\"\" src=\"https://sources.unplash.com/200x200/?nature, water\"/>\n<p>Lorem ipsum dolor sit amet consectetur adipisicing elit. Nobis quae deleniti accusamus doloribus accusantium, sapiente culpa iusto sunt neque quia?</p>\n</div>\n<div id=\"section-2\">\n<ul class=\"items\">\n<a href=\"#\"><li class=\"item\">item 1</li></a>\n<a href=\"#\"><li class=\"item\">item 2</li></a>\n<a href=\"#\"><li class=\"item\">item 3</li></a>\n<a href=\"#\"><li class=\"item\">item 4</li></a>\n</ul>\n</div>\n</body>\n",
          "name": "stdout"
        }
      ]
    },
    {
      "metadata": {},
      "cell_type": "markdown",
      "source": "[<a href=\"#Intro-to-Web-Scraping-with-BeautifulSoup\">Back to Top</a>]"
    },
    {
      "metadata": {
        "trusted": true
      },
      "cell_type": "code",
      "source": "# Get head of html document \nprint(soup.head)",
      "execution_count": 9,
      "outputs": [
        {
          "output_type": "stream",
          "text": "<head>\n<meta charset=\"utf-8\"/>\n<meta content=\"width=device-width, initial-scale=1.0\" name=\"viewport\"/>\n<title>Intro to Web Scraping with BeautifulSoup</title>\n</head>\n",
          "name": "stdout"
        }
      ]
    },
    {
      "metadata": {
        "trusted": true
      },
      "cell_type": "code",
      "source": "# Get title of html document \nprint(soup.title)",
      "execution_count": 10,
      "outputs": [
        {
          "output_type": "stream",
          "text": "<title>Intro to Web Scraping with BeautifulSoup</title>\n",
          "name": "stdout"
        }
      ]
    },
    {
      "metadata": {
        "trusted": true
      },
      "cell_type": "code",
      "source": "# find() ==> it gives you first one \ne1 = soup.find('div')\nprint(e1)",
      "execution_count": 15,
      "outputs": [
        {
          "output_type": "stream",
          "text": "<div id=\"section-1\">\n<h3 data-hello=\"hi\">Hello</h3>\n<img alt=\"\" src=\"https://sources.unplash.com/200x200/?nature, water\"/>\n<p>Lorem ipsum dolor sit amet consectetur adipisicing elit. Nobis quae deleniti accusamus doloribus accusantium, sapiente culpa iusto sunt neque quia?</p>\n</div>\n",
          "name": "stdout"
        }
      ]
    },
    {
      "metadata": {
        "trusted": true
      },
      "cell_type": "code",
      "source": "# find_all() or findAll() ==> it gives a list of dives \ne2 = soup.find_all('div')\n# e2 = soup.findAll('div')\nprint(e2)",
      "execution_count": 21,
      "outputs": [
        {
          "output_type": "stream",
          "text": "[<div id=\"section-1\">\n<h3 data-hello=\"hi\">Hello</h3>\n<img alt=\"\" src=\"https://sources.unplash.com/200x200/?nature, water\"/>\n<p>Lorem ipsum dolor sit amet consectetur adipisicing elit. Nobis quae deleniti accusamus doloribus accusantium, sapiente culpa iusto sunt neque quia?</p>\n</div>, <div id=\"section-2\">\n<ul class=\"items\">\n<a href=\"#\"><li class=\"item\">item 1</li></a>\n<a href=\"#\"><li class=\"item\">item 2</li></a>\n<a href=\"#\"><li class=\"item\">item 3</li></a>\n<a href=\"#\"><li class=\"item\">item 4</li></a>\n</ul>\n</div>]\n",
          "name": "stdout"
        }
      ]
    },
    {
      "metadata": {
        "trusted": true
      },
      "cell_type": "code",
      "source": "# Inspect list element from e2 \ne2[0]",
      "execution_count": 22,
      "outputs": [
        {
          "output_type": "execute_result",
          "execution_count": 22,
          "data": {
            "text/plain": "<div id=\"section-1\">\n<h3 data-hello=\"hi\">Hello</h3>\n<img alt=\"\" src=\"https://sources.unplash.com/200x200/?nature, water\"/>\n<p>Lorem ipsum dolor sit amet consectetur adipisicing elit. Nobis quae deleniti accusamus doloribus accusantium, sapiente culpa iusto sunt neque quia?</p>\n</div>"
          },
          "metadata": {}
        }
      ]
    },
    {
      "metadata": {
        "trusted": true
      },
      "cell_type": "code",
      "source": "# Inspect list element from e2 \ne2[1]",
      "execution_count": 23,
      "outputs": [
        {
          "output_type": "execute_result",
          "execution_count": 23,
          "data": {
            "text/plain": "<div id=\"section-2\">\n<ul class=\"items\">\n<a href=\"#\"><li class=\"item\">item 1</li></a>\n<a href=\"#\"><li class=\"item\">item 2</li></a>\n<a href=\"#\"><li class=\"item\">item 3</li></a>\n<a href=\"#\"><li class=\"item\">item 4</li></a>\n</ul>\n</div>"
          },
          "metadata": {}
        }
      ]
    },
    {
      "metadata": {
        "trusted": true
      },
      "cell_type": "code",
      "source": "# find by id or class \ne3 = soup.find(id=\"section-1\")\nprint(e3)",
      "execution_count": 25,
      "outputs": [
        {
          "output_type": "stream",
          "text": "<div id=\"section-1\">\n<h3 data-hello=\"hi\">Hello</h3>\n<img alt=\"\" src=\"https://sources.unplash.com/200x200/?nature, water\"/>\n<p>Lorem ipsum dolor sit amet consectetur adipisicing elit. Nobis quae deleniti accusamus doloribus accusantium, sapiente culpa iusto sunt neque quia?</p>\n</div>\n",
          "name": "stdout"
        }
      ]
    },
    {
      "metadata": {
        "trusted": true
      },
      "cell_type": "code",
      "source": "# find by id or class ==> it shows an error beacause class is a reserved word that's why we have to use underscore after clss\ne4 = soup.find(class = \"items\")\nprint(e4)",
      "execution_count": 27,
      "outputs": [
        {
          "output_type": "error",
          "ename": "SyntaxError",
          "evalue": "invalid syntax (<ipython-input-27-7d5c2fdd0420>, line 2)",
          "traceback": [
            "\u001b[0;36m  File \u001b[0;32m\"<ipython-input-27-7d5c2fdd0420>\"\u001b[0;36m, line \u001b[0;32m2\u001b[0m\n\u001b[0;31m    e4 = soup.find(class = \"items\")\u001b[0m\n\u001b[0m                       ^\u001b[0m\n\u001b[0;31mSyntaxError\u001b[0m\u001b[0;31m:\u001b[0m invalid syntax\n"
          ]
        }
      ]
    },
    {
      "metadata": {
        "trusted": true
      },
      "cell_type": "code",
      "source": "e4 = soup.find(class_= \"items\")\nprint(e4)",
      "execution_count": 29,
      "outputs": [
        {
          "output_type": "stream",
          "text": "<ul class=\"items\">\n<a href=\"#\"><li class=\"item\">item 1</li></a>\n<a href=\"#\"><li class=\"item\">item 2</li></a>\n<a href=\"#\"><li class=\"item\">item 3</li></a>\n<a href=\"#\"><li class=\"item\">item 4</li></a>\n</ul>\n",
          "name": "stdout"
        }
      ]
    },
    {
      "metadata": {
        "trusted": true
      },
      "cell_type": "code",
      "source": "# find by `data attribute`: attrs {} JSON object \ne5 = soup.find(attrs={'data-hello': 'hi'})\nprint(e5)",
      "execution_count": 31,
      "outputs": [
        {
          "output_type": "stream",
          "text": "<h3 data-hello=\"hi\">Hello</h3>\n",
          "name": "stdout"
        }
      ]
    },
    {
      "metadata": {},
      "cell_type": "markdown",
      "source": "[<a href=\"#Intro-to-Web-Scraping-with-BeautifulSoup\">Back to Top</a>]"
    },
    {
      "metadata": {
        "trusted": true
      },
      "cell_type": "code",
      "source": "# select element by id ==> it returns a list \ne6 = soup.select('#section-1')\nprint(e6)",
      "execution_count": 32,
      "outputs": [
        {
          "output_type": "stream",
          "text": "[<div id=\"section-1\">\n<h3 data-hello=\"hi\">Hello</h3>\n<img alt=\"\" src=\"https://sources.unplash.com/200x200/?nature, water\"/>\n<p>Lorem ipsum dolor sit amet consectetur adipisicing elit. Nobis quae deleniti accusamus doloribus accusantium, sapiente culpa iusto sunt neque quia?</p>\n</div>]\n",
          "name": "stdout"
        }
      ]
    },
    {
      "metadata": {
        "trusted": true
      },
      "cell_type": "code",
      "source": "# Inspect element ==> it not returns a list because we select index of 0 \ne6 = soup.select('#section-1')[0]\nprint(e6)",
      "execution_count": 33,
      "outputs": [
        {
          "output_type": "stream",
          "text": "<div id=\"section-1\">\n<h3 data-hello=\"hi\">Hello</h3>\n<img alt=\"\" src=\"https://sources.unplash.com/200x200/?nature, water\"/>\n<p>Lorem ipsum dolor sit amet consectetur adipisicing elit. Nobis quae deleniti accusamus doloribus accusantium, sapiente culpa iusto sunt neque quia?</p>\n</div>\n",
          "name": "stdout"
        }
      ]
    },
    {
      "metadata": {
        "trusted": true
      },
      "cell_type": "code",
      "source": "# select element by class ==> it returns a list \ne7 = soup.select(\".items\")\nprint(e7)",
      "execution_count": 34,
      "outputs": [
        {
          "output_type": "stream",
          "text": "[<ul class=\"items\">\n<a href=\"#\"><li class=\"item\">item 1</li></a>\n<a href=\"#\"><li class=\"item\">item 2</li></a>\n<a href=\"#\"><li class=\"item\">item 3</li></a>\n<a href=\"#\"><li class=\"item\">item 4</li></a>\n</ul>]\n",
          "name": "stdout"
        }
      ]
    },
    {
      "metadata": {
        "trusted": true
      },
      "cell_type": "code",
      "source": "# Inspect element ==> it is not return a list \ne7 = soup.select(\".items\")[0]\nprint(e7)",
      "execution_count": 35,
      "outputs": [
        {
          "output_type": "stream",
          "text": "<ul class=\"items\">\n<a href=\"#\"><li class=\"item\">item 1</li></a>\n<a href=\"#\"><li class=\"item\">item 2</li></a>\n<a href=\"#\"><li class=\"item\">item 3</li></a>\n<a href=\"#\"><li class=\"item\">item 4</li></a>\n</ul>\n",
          "name": "stdout"
        }
      ]
    },
    {
      "metadata": {
        "trusted": true
      },
      "cell_type": "code",
      "source": "# get_text() method \ne8 = soup.find(class_=\"item\").get_text()\nprint(e8)",
      "execution_count": 38,
      "outputs": [
        {
          "output_type": "stream",
          "text": "item 1\n",
          "name": "stdout"
        }
      ]
    },
    {
      "metadata": {
        "trusted": true
      },
      "cell_type": "code",
      "source": "# Looping over items \nfor item in soup.select(\".item\"): \n    print(item.get_text())",
      "execution_count": 39,
      "outputs": [
        {
          "output_type": "stream",
          "text": "item 1\nitem 2\nitem 3\nitem 4\n",
          "name": "stdout"
        }
      ]
    },
    {
      "metadata": {},
      "cell_type": "markdown",
      "source": "[<a href=\"#Intro-to-Web-Scraping-with-BeautifulSoup\">Back to Top</a>]"
    },
    {
      "metadata": {},
      "cell_type": "markdown",
      "source": "## Navigation"
    },
    {
      "metadata": {
        "trusted": true
      },
      "cell_type": "code",
      "source": "# Contents \nelem = soup.body.contents\nprint(elem)",
      "execution_count": 41,
      "outputs": [
        {
          "output_type": "stream",
          "text": "['\\n', <div id=\"section-1\">\n<h3 data-hello=\"hi\">Hello</h3>\n<img alt=\"\" src=\"https://sources.unplash.com/200x200/?nature, water\"/>\n<p>Lorem ipsum dolor sit amet consectetur adipisicing elit. Nobis quae deleniti accusamus doloribus accusantium, sapiente culpa iusto sunt neque quia?</p>\n</div>, '\\n', <div id=\"section-2\">\n<ul class=\"items\">\n<a href=\"#\"><li class=\"item\">item 1</li></a>\n<a href=\"#\"><li class=\"item\">item 2</li></a>\n<a href=\"#\"><li class=\"item\">item 3</li></a>\n<a href=\"#\"><li class=\"item\">item 4</li></a>\n</ul>\n</div>, '\\n']\n",
          "name": "stdout"
        }
      ]
    },
    {
      "metadata": {
        "trusted": true
      },
      "cell_type": "code",
      "source": "# It's nothing, because it looks line break \nelem = soup.body.contents[0]\nprint(elem)",
      "execution_count": 43,
      "outputs": [
        {
          "output_type": "stream",
          "text": "\n\n",
          "name": "stdout"
        }
      ]
    },
    {
      "metadata": {
        "trusted": true
      },
      "cell_type": "code",
      "source": "# Inspect elements \nelem = soup.body.contents[1]\nprint(elem)",
      "execution_count": 44,
      "outputs": [
        {
          "output_type": "stream",
          "text": "<div id=\"section-1\">\n<h3 data-hello=\"hi\">Hello</h3>\n<img alt=\"\" src=\"https://sources.unplash.com/200x200/?nature, water\"/>\n<p>Lorem ipsum dolor sit amet consectetur adipisicing elit. Nobis quae deleniti accusamus doloribus accusantium, sapiente culpa iusto sunt neque quia?</p>\n</div>\n",
          "name": "stdout"
        }
      ]
    },
    {
      "metadata": {
        "trusted": true
      },
      "cell_type": "code",
      "source": "# Inspect elements \nelem = soup.body.contents[1].contents[1]\nprint(elem)",
      "execution_count": 46,
      "outputs": [
        {
          "output_type": "stream",
          "text": "<h3 data-hello=\"hi\">Hello</h3>\n",
          "name": "stdout"
        }
      ]
    },
    {
      "metadata": {
        "trusted": true
      },
      "cell_type": "code",
      "source": "# next siblings ==> # It's nothing, because it looks line break \nelem = soup.body.contents[1].contents[1].next_sibling\nprint(elem)",
      "execution_count": 48,
      "outputs": [
        {
          "output_type": "stream",
          "text": "\n\n",
          "name": "stdout"
        }
      ]
    },
    {
      "metadata": {
        "trusted": true
      },
      "cell_type": "code",
      "source": "# next siblings ==> # It's nothing, because it looks line break \nelem = soup.body.contents[1].contents[1].next_sibling.next_sibling\nprint(elem)",
      "execution_count": 49,
      "outputs": [
        {
          "output_type": "stream",
          "text": "<img alt=\"\" src=\"https://sources.unplash.com/200x200/?nature, water\"/>\n",
          "name": "stdout"
        }
      ]
    },
    {
      "metadata": {
        "trusted": true
      },
      "cell_type": "code",
      "source": "# find_next_sibling() method \nelem = soup.body.contents[1].contents[1].find_next_sibling()\nprint(elem)",
      "execution_count": 50,
      "outputs": [
        {
          "output_type": "stream",
          "text": "<img alt=\"\" src=\"https://sources.unplash.com/200x200/?nature, water\"/>\n",
          "name": "stdout"
        }
      ]
    },
    {
      "metadata": {
        "trusted": true
      },
      "cell_type": "code",
      "source": "# find_previous_sibling() method \nelem = soup.find(id=\"section-2\").find_previous_sibling()\nprint(elem)",
      "execution_count": 51,
      "outputs": [
        {
          "output_type": "stream",
          "text": "<div id=\"section-1\">\n<h3 data-hello=\"hi\">Hello</h3>\n<img alt=\"\" src=\"https://sources.unplash.com/200x200/?nature, water\"/>\n<p>Lorem ipsum dolor sit amet consectetur adipisicing elit. Nobis quae deleniti accusamus doloribus accusantium, sapiente culpa iusto sunt neque quia?</p>\n</div>\n",
          "name": "stdout"
        }
      ]
    },
    {
      "metadata": {
        "trusted": true
      },
      "cell_type": "code",
      "source": "# find_parent() method \nelem = soup.find(class_='.item').find_parent()\nprint(elem)",
      "execution_count": null,
      "outputs": []
    },
    {
      "metadata": {
        "trusted": true
      },
      "cell_type": "code",
      "source": "# find next paragraph \nelem = soup.find('h3').find_next_sibling('p') \nprint(elem)",
      "execution_count": 61,
      "outputs": [
        {
          "output_type": "stream",
          "text": "<p>Lorem ipsum dolor sit amet consectetur adipisicing elit. Nobis quae deleniti accusamus doloribus accusantium, sapiente culpa iusto sunt neque quia?</p>\n",
          "name": "stdout"
        }
      ]
    },
    {
      "metadata": {
        "trusted": true
      },
      "cell_type": "markdown",
      "source": "[<a href=\"#Intro-to-Web-Scraping-with-BeautifulSoup\">Back to Top</a>]"
    },
    {
      "metadata": {},
      "cell_type": "markdown",
      "source": "## Resources \n- https://www.crummy.com/software/BeautifulSoup/bs4/doc/\n- https://youtu.be/4UcqECQe5Kc?t=187"
    }
  ],
  "metadata": {
    "kernelspec": {
      "name": "python36",
      "display_name": "Python 3.6",
      "language": "python"
    },
    "language_info": {
      "mimetype": "text/x-python",
      "nbconvert_exporter": "python",
      "name": "python",
      "pygments_lexer": "ipython3",
      "version": "3.6.6",
      "file_extension": ".py",
      "codemirror_mode": {
        "version": 3,
        "name": "ipython"
      }
    }
  },
  "nbformat": 4,
  "nbformat_minor": 2
}